{
 "cells": [
  {
   "cell_type": "markdown",
   "id": "864b47e5",
   "metadata": {},
   "source": [
    "1. Create a function that takes a number n (integer greater than zero) as an argument, and returns 2 if n is odd and 8 if n is even.\n",
    "- You can only use the following arithmetic operators: addition of numbers +, subtraction of numbers -, multiplication of number *, division of number /, and exponentiation **.\n",
    "- You are not allowed to use any other methods in this challenge (i.e. no if statements, comparison operators, etc)."
   ]
  },
  {
   "cell_type": "code",
   "execution_count": 29,
   "id": "245b6da7",
   "metadata": {},
   "outputs": [
    {
     "name": "stdout",
     "output_type": "stream",
     "text": [
      " 2\n"
     ]
    }
   ],
   "source": [
    "def f(n):\n",
    "    try:\n",
    "        print(\"8\"*(n%2==0),\"2\"*(n%2!=0))\n",
    "    except Exception as err:\n",
    "        print(str(err))\n",
    "        \n",
    "        \n",
    "f(9)    "
   ]
  },
  {
   "cell_type": "markdown",
   "id": "e9435a14",
   "metadata": {},
   "source": [
    "2. Create a function that returns the majority vote in a list. A majority vote is an element that occurs &gt; N/2 times in a list (where N is the length of the list)."
   ]
  },
  {
   "cell_type": "code",
   "execution_count": 17,
   "id": "a03c66cc",
   "metadata": {},
   "outputs": [],
   "source": [
    "def majority_vote(ls):\n",
    "    try:\n",
    "        n = len(ls)\n",
    "        maxcount = 0\n",
    "        index = -1\n",
    "        \n",
    "        for i in range(n):\n",
    "            count = 0\n",
    "            \n",
    "            for j in range(n):\n",
    "\n",
    "                if ls[i] == ls[j]:\n",
    "                    count += 1\n",
    "\n",
    "            if count > maxcount:\n",
    "                maxcount = count\n",
    "                index = i\n",
    "\n",
    "        if maxcount>n//2 :\n",
    "            print(ls[index])\n",
    "        else:\n",
    "            print('None')\n",
    "    except Exception as err:\n",
    "        print(str(err))"
   ]
  },
  {
   "cell_type": "code",
   "execution_count": 18,
   "id": "5f2fd599",
   "metadata": {},
   "outputs": [
    {
     "name": "stdout",
     "output_type": "stream",
     "text": [
      "None\n"
     ]
    }
   ],
   "source": [
    "ls1 = ['A','B','C','A','C','B','B',]\n",
    "majority_vote(ls1)"
   ]
  },
  {
   "cell_type": "markdown",
   "id": "3bdd4310",
   "metadata": {},
   "source": [
    "3. Create a function that takes a string txt and censors any word from a given list lst. The text removed must be replaced by the given character char."
   ]
  },
  {
   "cell_type": "code",
   "execution_count": 68,
   "id": "cd95417e",
   "metadata": {},
   "outputs": [],
   "source": [
    "def censor_string(s,ls,ex):\n",
    "    try:\n",
    "        ls_of_word = s.split(' ')\n",
    "        \n",
    "        for i in range(len(ls_of_word)):\n",
    "            if ls_of_word[i] in ls:\n",
    "                ls_of_word[i] = ex*len(ls_of_word[i])\n",
    "            elif ls_of_word[i]+''\n",
    "            \n",
    "        return ' '.join(ls_of_word)\n",
    "    except Exception as err:\n",
    "        print(str(err))"
   ]
  },
  {
   "cell_type": "code",
   "execution_count": 69,
   "id": "7127ff89",
   "metadata": {},
   "outputs": [
    {
     "data": {
      "text/plain": [
       "'Why *** the ******* cross the road?'"
      ]
     },
     "execution_count": 69,
     "metadata": {},
     "output_type": "execute_result"
    }
   ],
   "source": [
    "censor_string('Why did the chicken cross the road?',['did','chicken'],'*')"
   ]
  },
  {
   "cell_type": "code",
   "execution_count": 127,
   "id": "36467528",
   "metadata": {},
   "outputs": [
    {
     "data": {
      "text/plain": [
       "2"
      ]
     },
     "execution_count": 127,
     "metadata": {},
     "output_type": "execute_result"
    }
   ],
   "source": [
    "n = 123220\n",
    "digit = []\n",
    "1232%10"
   ]
  },
  {
   "cell_type": "markdown",
   "id": "419767ae",
   "metadata": {},
   "source": [
    "4. In mathematics a Polydivisible Number (or magic number) is a number in a given number base with digits abcde... that has the following properties:\n",
    "- Its first digit a is not 0.\n",
    "- The number formed by its first two digits ab is a multiple of 2.\n",
    "- The number formed by its first three digits abc is a multiple of 3.\n",
    "- The number formed by its first four digits abcd is a multiple of 4.\n",
    "- Create a function which takes an integer n and returns True if the given number is a Polydivisible Number and False otherwise."
   ]
  },
  {
   "cell_type": "code",
   "execution_count": 6,
   "id": "f65a4034",
   "metadata": {},
   "outputs": [],
   "source": [
    "def is_polydivisible(n):\n",
    "    try:\n",
    "        digit = []\n",
    "        while n > 0:\n",
    "            digit.append(n)\n",
    "            n = n // 10\n",
    "        digit = digit[::-1]\n",
    "        \n",
    "        flag = True\n",
    "        for i in range(1,len(digit)):\n",
    "            if digit[i] % (i+1) != 0:\n",
    "                flag = False\n",
    "                break\n",
    "        \n",
    "        if flag:\n",
    "            print(True)\n",
    "        else:\n",
    "            print(False)\n",
    "    except Exception as err:\n",
    "        print(str(err))        "
   ]
  },
  {
   "cell_type": "code",
   "execution_count": 7,
   "id": "3ef9486a",
   "metadata": {},
   "outputs": [
    {
     "name": "stdout",
     "output_type": "stream",
     "text": [
      "True\n"
     ]
    }
   ],
   "source": [
    "is_polydivisible(1232)"
   ]
  },
  {
   "cell_type": "markdown",
   "id": "b356170b",
   "metadata": {},
   "source": [
    "5. Create a function that takes a list of numbers and returns the sum of all prime numbers in the list."
   ]
  },
  {
   "cell_type": "code",
   "execution_count": 24,
   "id": "a40a9414",
   "metadata": {},
   "outputs": [],
   "source": [
    "def sum_primes(ls):\n",
    "    try:\n",
    "        counter = 0\n",
    "        \n",
    "        for num in ls:\n",
    "            if num > 1:\n",
    "                for each_num in range(2,num):\n",
    "                    if num % each_num == 0:\n",
    "                        break\n",
    "                else:\n",
    "                    counter += num\n",
    "        return counter\n",
    "    except Exception as err:\n",
    "        print(str(err))                "
   ]
  },
  {
   "cell_type": "code",
   "execution_count": 23,
   "id": "c1f759fc",
   "metadata": {},
   "outputs": [
    {
     "data": {
      "text/plain": [
       "87"
      ]
     },
     "execution_count": 23,
     "metadata": {},
     "output_type": "execute_result"
    }
   ],
   "source": [
    "sum_primes([2,3, 4, 11, 20, 50, 71])"
   ]
  },
  {
   "cell_type": "code",
   "execution_count": null,
   "id": "9d91f79e",
   "metadata": {},
   "outputs": [],
   "source": []
  }
 ],
 "metadata": {
  "kernelspec": {
   "display_name": "Python 3",
   "language": "python",
   "name": "python3"
  },
  "language_info": {
   "codemirror_mode": {
    "name": "ipython",
    "version": 3
   },
   "file_extension": ".py",
   "mimetype": "text/x-python",
   "name": "python",
   "nbconvert_exporter": "python",
   "pygments_lexer": "ipython3",
   "version": "3.8.8"
  }
 },
 "nbformat": 4,
 "nbformat_minor": 5
}
