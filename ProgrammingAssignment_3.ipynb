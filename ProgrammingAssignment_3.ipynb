{
 "cells": [
  {
   "cell_type": "markdown",
   "id": "bcfa508a",
   "metadata": {},
   "source": [
    "1. Create a function to perform basic arithmetic operations that includes addition, subtraction, multiplication and division on a string number (e.g. \"12 + 24\" or \"23 - 21\" or \"12 // 12\" or \"12 * 21\").\n",
    " - Here, we have 1 followed by a space, operator followed by another space and 2. For the challenge, we are going to have only two numbers between 1 valid operator. The return value should be a number.\n",
    " - eval() is not allowed. In case of division, whenever the second number equals \"0\" return -1."
   ]
  },
  {
   "cell_type": "code",
   "execution_count": 1,
   "id": "07070fbb",
   "metadata": {},
   "outputs": [],
   "source": [
    "def arithmetic_operation(s):\n",
    "    try:\n",
    "        np = __import__('numpy')\n",
    "        s.replace(' ','')\n",
    "        \n",
    "        for char in s:\n",
    "            if '+' in char:\n",
    "                ls_int = [int(j) for j in s.split('+')]\n",
    "                arr = np.array(ls_int)\n",
    "                \n",
    "                return np.sum(arr[0],arr[1])\n",
    "                \n",
    "                \n",
    "            elif '-' in char:\n",
    "                ls_int = [int(j) for j in s.split('-')]\n",
    "                arr = np.array(ls_int)\n",
    "                \n",
    "                return np.subtract(arr[0],arr[1])\n",
    "            \n",
    "            elif '*' in char:\n",
    "                ls_int = [int(j) for j in s.split('*')]\n",
    "                arr = np.array(ls_int)\n",
    "                \n",
    "                return np.multiply(arr[0],arr[1])\n",
    "            \n",
    "            elif '/' in char:\n",
    "                ls_int = [int(j) for j in s.split('/')]\n",
    "                arr = np.array(ls_int)\n",
    "                \n",
    "                if arr[1] == 0:\n",
    "                    return -1\n",
    "                else:\n",
    "                    return np.divide(arr[0],arr[1])\n",
    "        \n",
    "    except Exception as err:\n",
    "        print(str(err))\n",
    "                \n",
    "             "
   ]
  },
  {
   "cell_type": "code",
   "execution_count": 2,
   "id": "1ccf8d86",
   "metadata": {},
   "outputs": [
    {
     "data": {
      "text/plain": [
       "0"
      ]
     },
     "execution_count": 2,
     "metadata": {},
     "output_type": "execute_result"
    }
   ],
   "source": [
    "arithmetic_operation('12 - 12')"
   ]
  },
  {
   "cell_type": "markdown",
   "id": "f7e1b303",
   "metadata": {},
   "source": [
    "2. Write a function that takes the coordinates of three points in the form of a 2d array and returns the perimeter of the triangle. The given points are the vertices of a triangle on a two-dimensional plane."
   ]
  },
  {
   "cell_type": "code",
   "execution_count": 3,
   "id": "e2e4ceea",
   "metadata": {},
   "outputs": [],
   "source": [
    "def perimeter(ls):\n",
    "    try:\n",
    "        np = __import__('numpy')\n",
    "        \n",
    "        distance1 = np.sqrt(np.square(ls[0][0] - ls[1][0]) + np.square(ls[0][1]-ls[1][1]))\n",
    "        distance2 = np.sqrt(np.square(ls[1][0] - ls[2][0]) + np.square(ls[1][1]-ls[2][1]))\n",
    "        distance3 = np.sqrt(np.square(ls[2][0] - ls[0][0]) + np.square(ls[2][1]-ls[0][1]))\n",
    "        \n",
    "        return round(distance1 + distance2 + distance3, 2 )\n",
    "    except Exception as err:\n",
    "        print('an error has occured!!')\n",
    "        print(str(err))"
   ]
  },
  {
   "cell_type": "code",
   "execution_count": 4,
   "id": "657ea409",
   "metadata": {},
   "outputs": [
    {
     "data": {
      "text/plain": [
       "3.41"
      ]
     },
     "execution_count": 4,
     "metadata": {},
     "output_type": "execute_result"
    }
   ],
   "source": [
    "perimeter([[0, 0], [0, 1], [1, 0]])"
   ]
  },
  {
   "cell_type": "code",
   "execution_count": 5,
   "id": "5b1d0acd",
   "metadata": {},
   "outputs": [
    {
     "data": {
      "text/plain": [
       "68.28"
      ]
     },
     "execution_count": 5,
     "metadata": {},
     "output_type": "execute_result"
    }
   ],
   "source": [
    "perimeter([[-10, -10], [10, 10 ], [-10, 10]])"
   ]
  },
  {
   "cell_type": "markdown",
   "id": "f3fe2089",
   "metadata": {},
   "source": [
    "3. A city skyline can be represented as a 2-D list with 1s representing buildings. In the example below, the height of the tallest building is 4 (second - most right column).\n",
    " - [[0, 0, 0, 0, 0, 0],\n",
    "    [0, 0, 0, 0, 1, 0],\n",
    "    [0, 0, 1, 0, 1, 0],\n",
    "    [0, 1, 1, 1, 1, 0],\n",
    "    [1, 1, 1, 1, 1, 1]]\n",
    " - Create a function that takes a skyline (2-D list of 0&#39;s and 1&#39;s) and returns the height of the tallest skyscraper."
   ]
  },
  {
   "cell_type": "code",
   "execution_count": 6,
   "id": "f81127c7",
   "metadata": {},
   "outputs": [],
   "source": [
    "def tallest_skyscraper(nested_ls):\n",
    "    try:\n",
    "        height = 0\n",
    "        for each_ls in nested_ls:\n",
    "            if sum(each_ls) > 0:\n",
    "                height += 1\n",
    "        return height\n",
    "    except Exception as err:\n",
    "        print(str(err))"
   ]
  },
  {
   "cell_type": "code",
   "execution_count": 7,
   "id": "595952bf",
   "metadata": {},
   "outputs": [
    {
     "data": {
      "text/plain": [
       "2"
      ]
     },
     "execution_count": 7,
     "metadata": {},
     "output_type": "execute_result"
    }
   ],
   "source": [
    "tallest_skyscraper([\n",
    "[0, 0, 0, 0],\n",
    "[0, 0, 0, 0],\n",
    "[1, 1, 1, 0],\n",
    "[1, 1, 1, 1]\n",
    "])"
   ]
  },
  {
   "cell_type": "markdown",
   "id": "ba562cfa",
   "metadata": {},
   "source": [
    "5. A number is said to be Disarium if the sum of its digits raised to their respective positions is the number itself.\n",
    "- Create a function that determines whether a number is a Disarium or not."
   ]
  },
  {
   "cell_type": "code",
   "execution_count": 8,
   "id": "8e92fee0",
   "metadata": {},
   "outputs": [],
   "source": [
    "def calculate_length(num):\n",
    "    try:\n",
    "        length = 0\n",
    "        while num > 0:\n",
    "            length = length + 1\n",
    "            num = num // 10\n",
    "        return length\n",
    "    except Exception as err:\n",
    "        print('an error has occured!!')\n",
    "\n",
    "def is_disarium(num):\n",
    "    try:\n",
    "        math = __import__('math')\n",
    "        temp = num\n",
    "        result = 0\n",
    "    \n",
    "        while temp > 0:\n",
    "            digit = temp % 10\n",
    "            result = result + math.pow(digit,calculate_length(temp))\n",
    "            temp = temp // 10\n",
    "        \n",
    "        if result == num:\n",
    "            return True\n",
    "        else:\n",
    "            return False\n",
    "    except Exception as err:\n",
    "        print(str(err))"
   ]
  },
  {
   "cell_type": "code",
   "execution_count": 9,
   "id": "753bdb62",
   "metadata": {},
   "outputs": [
    {
     "data": {
      "text/plain": [
       "False"
      ]
     },
     "execution_count": 9,
     "metadata": {},
     "output_type": "execute_result"
    }
   ],
   "source": [
    "is_disarium(544)"
   ]
  },
  {
   "cell_type": "code",
   "execution_count": 10,
   "id": "2581816b",
   "metadata": {},
   "outputs": [
    {
     "data": {
      "text/plain": [
       "True"
      ]
     },
     "execution_count": 10,
     "metadata": {},
     "output_type": "execute_result"
    }
   ],
   "source": [
    "is_disarium(135)"
   ]
  },
  {
   "cell_type": "code",
   "execution_count": null,
   "id": "1ab8f79e",
   "metadata": {},
   "outputs": [],
   "source": [
    "for i in range(50+1):\n",
    "    if i >= 0 and i <=32:\n",
    "        return "
   ]
  }
 ],
 "metadata": {
  "kernelspec": {
   "display_name": "Python 3",
   "language": "python",
   "name": "python3"
  },
  "language_info": {
   "codemirror_mode": {
    "name": "ipython",
    "version": 3
   },
   "file_extension": ".py",
   "mimetype": "text/x-python",
   "name": "python",
   "nbconvert_exporter": "python",
   "pygments_lexer": "ipython3",
   "version": "3.8.8"
  }
 },
 "nbformat": 4,
 "nbformat_minor": 5
}
