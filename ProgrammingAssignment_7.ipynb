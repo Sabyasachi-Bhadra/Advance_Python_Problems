{
 "cells": [
  {
   "cell_type": "markdown",
   "id": "73ebd48e",
   "metadata": {},
   "source": [
    "### Write a function that counts how many concentric layers a rug."
   ]
  },
  {
   "cell_type": "code",
   "execution_count": null,
   "id": "12ceec05",
   "metadata": {},
   "outputs": [],
   "source": []
  },
  {
   "cell_type": "markdown",
   "id": "046c6958",
   "metadata": {},
   "source": [
    "### There are many different styles of music and many albums exhibit multiple styles. Create a function that takes a list of musical styles from albums and returns how many styles are unique."
   ]
  },
  {
   "cell_type": "code",
   "execution_count": null,
   "id": "403f1afc",
   "metadata": {},
   "outputs": [],
   "source": [
    "def unique_styles(ls):\n",
    "    try:\n",
    "        unique = 0\n",
    "        emp_ls = []\n",
    "        for i in ls:\n",
    "            new_ls = list(i.split(\",\"))\n",
    "            for j in new_ls:\n",
    "                if j not in emp_ls:\n",
    "                    emp_ls.append(j)\n",
    "                    unique = unique + 1\n",
    "        return unique\n",
    "    except Exception as err:\n",
    "        print('an error occured!!')\n",
    "        print(str(err))\n",
    "\n",
    "ls = [\"Dub,Dancehall\",\"Industrial,Heavy Metal\",\"Techno,Dubstep\",\"Synth-pop,Euro-Disco\",\"Industrial,Techno,Minimal\"]\n",
    "if __name__ == \"__main__\":\n",
    "    print(unique_styles(ls))"
   ]
  },
  {
   "cell_type": "markdown",
   "id": "55dc94ee",
   "metadata": {},
   "source": [
    "### Create a function that finds a target number in a list of prime numbers. Implement a binary search algorithm in your function. The target number will be from 2 through 97. If the target is prime then return \"yes\" else return \"no\"."
   ]
  },
  {
   "cell_type": "code",
   "execution_count": 6,
   "id": "66539177",
   "metadata": {},
   "outputs": [],
   "source": [
    "def is_prime(primes,x):\n",
    "    try:\n",
    "        low = 0\n",
    "        high = len(primes)-1\n",
    "        mid = 0\n",
    "        while low<= high:\n",
    "            mid = (low+high)//2\n",
    "            if primes[mid] < x:\n",
    "                low = mid + 1\n",
    "            elif primes[mid] > x:\n",
    "                high = mid - 1\n",
    "            else:\n",
    "                for i in range(primes[0],int(primes[mid]/2)+1):\n",
    "                    if primes[mid] % i == 0:\n",
    "                        return \"no\"\n",
    "                    else:\n",
    "                        return \"yes\"\n",
    "        return \"no\"\n",
    "    except Exception as err:\n",
    "        print('an error occured!!')\n",
    "        print(str(err))   "
   ]
  },
  {
   "cell_type": "code",
   "execution_count": 8,
   "id": "aa98cbfa",
   "metadata": {
    "scrolled": true
   },
   "outputs": [
    {
     "name": "stdout",
     "output_type": "stream",
     "text": [
      "yes\n"
     ]
    }
   ],
   "source": [
    "if __name__ == \"__main__\":\n",
    "    print(is_prime([2, 3, 5, 7, 11, 13, 17, 19, 23, 29, 31, 37, 41, 43, 47, 53, 59, 61, 67,71, 73, 79, 83, 89, 97],67))"
   ]
  },
  {
   "cell_type": "markdown",
   "id": "6cb441cd",
   "metadata": {},
   "source": [
    "### Create a function that takes in n, a, b and returns the number of positive values raised to the nth power that lie in the range [a, b], inclusive."
   ]
  },
  {
   "cell_type": "code",
   "execution_count": null,
   "id": "825c0c44",
   "metadata": {},
   "outputs": [],
   "source": []
  },
  {
   "cell_type": "markdown",
   "id": "5d355da8",
   "metadata": {},
   "source": [
    "### Given a number, return the difference between the maximum and minimum numbers that can be formed when the digits are rearranged."
   ]
  },
  {
   "cell_type": "code",
   "execution_count": 26,
   "id": "e734ddc9",
   "metadata": {},
   "outputs": [
    {
     "name": "stdout",
     "output_type": "stream",
     "text": [
      "7709823\n"
     ]
    }
   ],
   "source": [
    "def rearranged_difference(num):\n",
    "    try:\n",
    "        asc = int(''.join(sorted([i for i in str(num)])))\n",
    "        desc = int(''.join(sorted([i for i in str(num)],reverse=True)))\n",
    "        diff = abs(desc - asc)\n",
    "        \n",
    "        return diff\n",
    "    except Exception as err:\n",
    "        print('an error occured!!')\n",
    "        print(str(err))\n",
    "\n",
    "if __name__==\"__main__\":\n",
    "    print(rearranged_difference(3320707))    "
   ]
  }
 ],
 "metadata": {
  "kernelspec": {
   "display_name": "Python 3",
   "language": "python",
   "name": "python3"
  },
  "language_info": {
   "codemirror_mode": {
    "name": "ipython",
    "version": 3
   },
   "file_extension": ".py",
   "mimetype": "text/x-python",
   "name": "python",
   "nbconvert_exporter": "python",
   "pygments_lexer": "ipython3",
   "version": "3.8.8"
  }
 },
 "nbformat": 4,
 "nbformat_minor": 5
}
