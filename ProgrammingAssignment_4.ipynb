{
 "cells": [
  {
   "cell_type": "markdown",
   "id": "533cfcf1",
   "metadata": {},
   "source": [
    "1. In mathematics, the Fibonacci numbers, commonly denoted Fn, form a sequence, called the Fibonacci sequence, such that each number is the sum of the two preceding ones, starting from 0 and 1:\n",
    "\n",
    " - The beginning of the sequence is this:\n",
    " - 0, 1, 1, 2, 3, 5, 8, 13, 21, 34, 55, 89, 144, ...\n",
    " - The function fastFib(num) returns the fibonacci number Fn, of the given num as an argument."
   ]
  },
  {
   "cell_type": "code",
   "execution_count": 6,
   "id": "52695100",
   "metadata": {},
   "outputs": [],
   "source": [
    "def fastFib(n):\n",
    "    try:\n",
    "        if n < 0:\n",
    "            raise ValueError(\"n must be an non-negative integer.\")\n",
    "        elif n == 0:\n",
    "            return 0\n",
    "        elif n == 1:\n",
    "            return 1\n",
    "        else:\n",
    "            return fastFib(n-1) + fastFib(n-2)\n",
    "    except Exception as err:\n",
    "        print('An error occured!!')\n",
    "        print(str(err))"
   ]
  },
  {
   "cell_type": "code",
   "execution_count": 7,
   "id": "99cc96ea",
   "metadata": {},
   "outputs": [
    {
     "data": {
      "text/plain": [
       "55"
      ]
     },
     "execution_count": 7,
     "metadata": {},
     "output_type": "execute_result"
    }
   ],
   "source": [
    "fastFib(10)"
   ]
  },
  {
   "cell_type": "markdown",
   "id": "00c1e8e7",
   "metadata": {},
   "source": [
    "2. Create a function that takes a strings characters as ASCII and returns each characters hexadecimal value as a string."
   ]
  },
  {
   "cell_type": "code",
   "execution_count": 52,
   "id": "2a0e701c",
   "metadata": {},
   "outputs": [],
   "source": [
    "def convert_to_hex(string):\n",
    "    try:\n",
    "        result = \"\"\n",
    "        for char in range(len(string)):\n",
    "            integer_ord_val = ord(string[char])\n",
    "            hex_ex = hex(integer_ord_val).lstrip('0x').rstrip('L')\n",
    "            result += hex_ex + ' '\n",
    "        return result\n",
    "    except Exception as err:\n",
    "        print(str(err))            "
   ]
  },
  {
   "cell_type": "code",
   "execution_count": 53,
   "id": "85684565",
   "metadata": {},
   "outputs": [
    {
     "data": {
      "text/plain": [
       "'68 65 6c 6c 6f 20 77 6f 72 6c 64 '"
      ]
     },
     "execution_count": 53,
     "metadata": {},
     "output_type": "execute_result"
    }
   ],
   "source": [
    "convert_to_hex('hello world')"
   ]
  },
  {
   "cell_type": "markdown",
   "id": "a2b7ab7e",
   "metadata": {},
   "source": [
    "3. Someone has attempted to censor my strings by replacing every vowel with a*, l*k* th*s. Luckily, I&#39;ve been able to find the vowels that were removed.\n",
    " - Given a censored string and a string of the censored vowels, return the original uncensored string."
   ]
  },
  {
   "cell_type": "code",
   "execution_count": 60,
   "id": "e6a2e864",
   "metadata": {},
   "outputs": [],
   "source": [
    "def uncensor(txt,vowels):\n",
    "    try:\n",
    "        result = \"\"\n",
    "        vowels = iter(vowels)\n",
    "        for char in txt:\n",
    "            if char == \"*\":\n",
    "                result += next(vowels)\n",
    "            else:\n",
    "                result += char\n",
    "        return result\n",
    "    except Exception as err:\n",
    "        print(str(err))            "
   ]
  },
  {
   "cell_type": "code",
   "execution_count": 62,
   "id": "f1d959fb",
   "metadata": {},
   "outputs": [
    {
     "data": {
      "text/plain": [
       "'UPPERCASE'"
      ]
     },
     "execution_count": 62,
     "metadata": {},
     "output_type": "execute_result"
    }
   ],
   "source": [
    "uncensor(\"*PP*RC*S*\", \"UEAE\")"
   ]
  },
  {
   "cell_type": "markdown",
   "id": "0b660587",
   "metadata": {},
   "source": [
    "4. Write a function that takes an IP address and returns the domain name using PTR DNS records."
   ]
  },
  {
   "cell_type": "markdown",
   "id": "d6be8a17",
   "metadata": {},
   "source": [
    "5. Create a function that takes an integer n and returns the factorial of factorials. See below examples for a better understanding:"
   ]
  },
  {
   "cell_type": "code",
   "execution_count": 74,
   "id": "d5db0332",
   "metadata": {},
   "outputs": [],
   "source": [
    "# def fact_of_fact(n):\n",
    "#     try:\n",
    "#         if n < 0:\n",
    "#             raise ValueError('n must be non-negative integer')\n",
    "#         elif n == 0:\n",
    "#             return 1\n",
    "#         else:\n",
    "#             for i in range(n+1):\n",
    "#                 return i*fact_of_fact(i-1)\n",
    "            \n",
    "#     except Exception as err:\n",
    "#         print(str(err))"
   ]
  },
  {
   "cell_type": "code",
   "execution_count": 72,
   "id": "886f137c",
   "metadata": {},
   "outputs": [
    {
     "name": "stdout",
     "output_type": "stream",
     "text": [
      "n must be non-negative integer\n",
      "unsupported operand type(s) for *: 'int' and 'NoneType'\n"
     ]
    }
   ],
   "source": [
    "fact_of_fact(4)"
   ]
  },
  {
   "cell_type": "code",
   "execution_count": 80,
   "id": "d7f891fa",
   "metadata": {},
   "outputs": [],
   "source": [
    "def fact_of_fact1(n):\n",
    "    try:\n",
    "        length = n\n",
    "        res = 1\n",
    "        while length !=0:\n",
    "            if n == 0:\n",
    "                return 1\n",
    "            else:\n",
    "                res = res * length*fact_of_fact(length-1)\n",
    "                print(res)\n",
    "            \n",
    "            length = length -1\n",
    "        return length\n",
    "    except Exception as err:\n",
    "        print(str(err))\n",
    "            \n",
    "                \n",
    "    "
   ]
  },
  {
   "cell_type": "code",
   "execution_count": 81,
   "id": "8bb553ab",
   "metadata": {},
   "outputs": [
    {
     "name": "stdout",
     "output_type": "stream",
     "text": [
      "0\n",
      "0\n",
      "0\n",
      "0\n"
     ]
    },
    {
     "data": {
      "text/plain": [
       "0"
      ]
     },
     "execution_count": 81,
     "metadata": {},
     "output_type": "execute_result"
    }
   ],
   "source": [
    "fact_of_fact1(4)"
   ]
  },
  {
   "cell_type": "code",
   "execution_count": null,
   "id": "baa04018",
   "metadata": {},
   "outputs": [],
   "source": []
  }
 ],
 "metadata": {
  "kernelspec": {
   "display_name": "Python 3",
   "language": "python",
   "name": "python3"
  },
  "language_info": {
   "codemirror_mode": {
    "name": "ipython",
    "version": 3
   },
   "file_extension": ".py",
   "mimetype": "text/x-python",
   "name": "python",
   "nbconvert_exporter": "python",
   "pygments_lexer": "ipython3",
   "version": "3.8.8"
  }
 },
 "nbformat": 4,
 "nbformat_minor": 5
}
