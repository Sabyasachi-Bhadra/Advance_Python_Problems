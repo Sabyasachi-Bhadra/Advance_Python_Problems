{
 "cells": [
  {
   "cell_type": "markdown",
   "id": "e914e015",
   "metadata": {},
   "source": [
    "1. Write a function that takes a positive integer num and calculates how many dots exist in a pentagonal shape around the center dot on the Nth iteration."
   ]
  },
  {
   "cell_type": "code",
   "execution_count": 1,
   "id": "f0499ef6",
   "metadata": {},
   "outputs": [],
   "source": [
    "def pentagonal(num):\n",
    "    try:\n",
    "        if num > 0 :\n",
    "            return round((5*num*num - 5*num +2)/2)\n",
    "        else:\n",
    "            print('please enter a positive integer')\n",
    "    except Exception as err:\n",
    "        print(str(err))           "
   ]
  },
  {
   "cell_type": "code",
   "execution_count": 2,
   "id": "2f5efb24",
   "metadata": {},
   "outputs": [
    {
     "data": {
      "text/plain": [
       "141"
      ]
     },
     "execution_count": 2,
     "metadata": {},
     "output_type": "execute_result"
    }
   ],
   "source": [
    "pentagonal(8)"
   ]
  },
  {
   "cell_type": "markdown",
   "id": "b401de92",
   "metadata": {},
   "source": [
    "2. Make a function that encrypts a given input with these steps:\n",
    " - Input: \"apple\"\n",
    "- Step 1: Reverse the input: \"elppa\"\n",
    "- Step 2: Replace all vowels using the following chart:\n",
    " - a => 0\n",
    " - e => 1\n",
    " - i => 2\n",
    " - o => 2\n",
    " - u => 3\n",
    " - \"1lpp0\"\n",
    "- Step 3: Add \"aca\" to the end of the word: \"1lpp0aca\"\n",
    "\n",
    "- Output: \"1lpp0aca\""
   ]
  },
  {
   "cell_type": "code",
   "execution_count": 3,
   "id": "4ed78789",
   "metadata": {},
   "outputs": [],
   "source": [
    "def encrypt(word):\n",
    "    try:\n",
    "        dic = {}\n",
    "        vowels = 'aeiou'\n",
    "        for letter in vowels:\n",
    "            if letter == 'a':\n",
    "                dic[letter] = 0\n",
    "            elif letter == 'e':\n",
    "                dic[letter] = 1\n",
    "            elif letter == 'i' or letter == 'o':\n",
    "                dic[letter] = 2\n",
    "            elif letter == 'u':\n",
    "                dic[letter] = 3\n",
    "        \n",
    "        rev_word = word[::-1]        \n",
    "        emp_str = ''\n",
    "        \n",
    "        for i in rev_word:\n",
    "            if i in dic.keys():\n",
    "                emp_str += str(dic[i])\n",
    "            else:\n",
    "                emp_str += i\n",
    "        return emp_str+'aca'\n",
    "    except Exception as err:\n",
    "        print(str(err))  "
   ]
  },
  {
   "cell_type": "code",
   "execution_count": 4,
   "id": "0499fbf1",
   "metadata": {},
   "outputs": [
    {
     "data": {
      "text/plain": [
       "'0n0n0baca'"
      ]
     },
     "execution_count": 4,
     "metadata": {},
     "output_type": "execute_result"
    }
   ],
   "source": [
    "encrypt('banana')"
   ]
  },
  {
   "cell_type": "markdown",
   "id": "bc173790",
   "metadata": {},
   "source": [
    "3. Given the month and year as numbers, return whether that month contains a Friday 13th.(i.e You can check Python's datetime module)"
   ]
  },
  {
   "cell_type": "code",
   "execution_count": 13,
   "id": "8ae60369",
   "metadata": {},
   "outputs": [],
   "source": [
    "import datetime\n",
    "from datetime import datetime\n",
    "import calendar\n",
    "\n",
    "def has_friday_13(month,year):\n",
    "    try:\n",
    "        date = f'{month} 13 {year}'.format()\n",
    "        result = datetime.strptime(date, '%m %d %Y')\n",
    "        no_of_day = result.weekday()\n",
    "        \n",
    "        if calendar.day_name[no_of_day] == 'Friday':\n",
    "            return True\n",
    "        else:\n",
    "            return False\n",
    "    \n",
    "    except Exception as err:\n",
    "        print(str(err))"
   ]
  },
  {
   "cell_type": "code",
   "execution_count": 14,
   "id": "b62dfa27",
   "metadata": {},
   "outputs": [
    {
     "data": {
      "text/plain": [
       "True"
      ]
     },
     "execution_count": 14,
     "metadata": {},
     "output_type": "execute_result"
    }
   ],
   "source": [
    "has_friday_13(3,2020)"
   ]
  },
  {
   "cell_type": "code",
   "execution_count": 15,
   "id": "e2285280",
   "metadata": {},
   "outputs": [],
   "source": [
    "import re"
   ]
  },
  {
   "cell_type": "code",
   "execution_count": 20,
   "id": "536a1765",
   "metadata": {},
   "outputs": [
    {
     "data": {
      "text/plain": [
       "2"
      ]
     },
     "execution_count": 20,
     "metadata": {},
     "output_type": "execute_result"
    }
   ],
   "source": [
    "ist = [\"bad cookie\", \"good cookie\", \"bad cookie\", \"good cookie\", \"good cookie\"]\n",
    "pattern = 'bad cookie'\n",
    "len(re.findall(pattern,','.join(ist)))"
   ]
  },
  {
   "cell_type": "markdown",
   "id": "ee9d3165",
   "metadata": {},
   "source": [
    "5. Given a list of words in the singular form, return a set of those words in the plural form if they appear more than once in the list."
   ]
  },
  {
   "cell_type": "code",
   "execution_count": 21,
   "id": "c7724e1b",
   "metadata": {},
   "outputs": [
    {
     "ename": "SyntaxError",
     "evalue": "unexpected EOF while parsing (<ipython-input-21-1d4564e8851b>, line 5)",
     "output_type": "error",
     "traceback": [
      "\u001b[1;36m  File \u001b[1;32m\"<ipython-input-21-1d4564e8851b>\"\u001b[1;36m, line \u001b[1;32m5\u001b[0m\n\u001b[1;33m    \u001b[0m\n\u001b[1;37m    ^\u001b[0m\n\u001b[1;31mSyntaxError\u001b[0m\u001b[1;31m:\u001b[0m unexpected EOF while parsing\n"
     ]
    }
   ],
   "source": [
    "emp_ls = []\n",
    "ls = ['cow','pig','cow','cow']\n",
    "c = 0\n",
    "for i in ls:\n",
    "    c = \n",
    "        emp_ls.\n",
    "        "
   ]
  },
  {
   "cell_type": "code",
   "execution_count": null,
   "id": "73efdfc1",
   "metadata": {},
   "outputs": [],
   "source": []
  }
 ],
 "metadata": {
  "kernelspec": {
   "display_name": "Python 3",
   "language": "python",
   "name": "python3"
  },
  "language_info": {
   "codemirror_mode": {
    "name": "ipython",
    "version": 3
   },
   "file_extension": ".py",
   "mimetype": "text/x-python",
   "name": "python",
   "nbconvert_exporter": "python",
   "pygments_lexer": "ipython3",
   "version": "3.8.8"
  }
 },
 "nbformat": 4,
 "nbformat_minor": 5
}
