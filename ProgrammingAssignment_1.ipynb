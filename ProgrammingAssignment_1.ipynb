{
 "cells": [
  {
   "cell_type": "markdown",
   "id": "3c212ddd",
   "metadata": {},
   "source": [
    "2. Create a function that takes a variable number of arguments, each argument representing the number of items in a group, and returns the number of permutations (combinations) of items that you could get by taking one item from each group."
   ]
  },
  {
   "cell_type": "code",
   "execution_count": null,
   "id": "7e92ec7a",
   "metadata": {},
   "outputs": [],
   "source": []
  },
  {
   "cell_type": "markdown",
   "id": "61e66c19",
   "metadata": {},
   "source": [
    "3. Create a function that takes a string as an argument and returns the Morse code equivalent."
   ]
  },
  {
   "cell_type": "code",
   "execution_count": 4,
   "id": "e891a449",
   "metadata": {},
   "outputs": [
    {
     "data": {
      "text/plain": [
       "'-- -.--  -. .- -- .  .. ...  .--. . -.-. .... ..- '"
      ]
     },
     "execution_count": 4,
     "metadata": {},
     "output_type": "execute_result"
    }
   ],
   "source": [
    "# Dictionary representing the morse code chart\n",
    "char_to_dots = { 'A':'.-', 'B':'-...',\n",
    "                    'C':'-.-.', 'D':'-..', 'E':'.',\n",
    "                    'F':'..-.', 'G':'--.', 'H':'....',\n",
    "                    'I':'..', 'J':'.---', 'K':'-.-',\n",
    "                    'L':'.-..', 'M':'--', 'N':'-.',\n",
    "                    'O':'---', 'P':'.--.', 'Q':'--.-',\n",
    "                    'R':'.-.', 'S':'...', 'T':'-',\n",
    "                    'U':'..-', 'V':'...-', 'W':'.--',\n",
    "                    'X':'-..-', 'Y':'-.--', 'Z':'--..',\n",
    "                    '1':'.----', '2':'..---', '3':'...--',\n",
    "                    '4':'....-', '5':'.....', '6':'-....',\n",
    "                    '7':'--...', '8':'---..', '9':'----.',\n",
    "                    '0':'-----', ', ':'--..--', '.':'.-.-.-',\n",
    "                    '?':'..--..', '/':'-..-.', '-':'-....-',\n",
    "                    '(':'-.--.', ')':'-.--.-'}\n",
    "def encode_morse(message):\n",
    "    add_morse_code = ''\n",
    "    try:\n",
    "        for letter in message:\n",
    "            if letter != ' ':\n",
    "                add_morse_code += char_to_dots[letter]+' '\n",
    "            else:\n",
    "                add_morse_code += ' '\n",
    "        return add_morse_code\n",
    "    except Exception as err:\n",
    "        print(str(err))\n",
    "\n",
    "encode_morse('MY NAME IS PECHU')"
   ]
  },
  {
   "cell_type": "markdown",
   "id": "4eebd123",
   "metadata": {},
   "source": [
    "4. Write a function that takes a number and returns True if it&#39;s a prime; False otherwise. The number can be 2^64-1 (2 to the power of 63, not XOR). With the standard technique it would be O(2^64-1), which is much too large for the 10 second time limit."
   ]
  },
  {
   "cell_type": "code",
   "execution_count": 16,
   "id": "9a2fe9e1",
   "metadata": {},
   "outputs": [
    {
     "data": {
      "text/plain": [
       "False"
      ]
     },
     "execution_count": 16,
     "metadata": {},
     "output_type": "execute_result"
    }
   ],
   "source": [
    "def prime(number):\n",
    "    try:\n",
    "        if number == 1:\n",
    "            return False\n",
    "        elif number == 2:\n",
    "            return True\n",
    "        else:\n",
    "            for each_number in range(2,number):\n",
    "                if number % each_number == 0:\n",
    "                    return False\n",
    "                else:\n",
    "                    return True\n",
    "    except Exception as err:\n",
    "        print(str(err))\n",
    "\n",
    "prime(5151512515524)"
   ]
  },
  {
   "cell_type": "markdown",
   "id": "5a26ccbd",
   "metadata": {},
   "source": [
    "5. Create a function that converts a word to a bitstring and then to a boolean list based on the following criteria:\n",
    "   1. Locate the position of the letter in the English alphabet (from 1 to 26).\n",
    "   2. Odd positions will be represented as 1 and 0 otherwise.\n",
    "   3. Convert the represented positions to boolean values, 1 for True and 0 for False.\n",
    "   4. Store the conversions into an array."
   ]
  },
  {
   "cell_type": "code",
   "execution_count": 33,
   "id": "ca5dba01",
   "metadata": {},
   "outputs": [
    {
     "data": {
      "text/plain": [
       "[False, True, False, True, True]"
      ]
     },
     "execution_count": 33,
     "metadata": {},
     "output_type": "execute_result"
    }
   ],
   "source": [
    "def to_bollean_list(word):\n",
    "    try:\n",
    "        dic = {}\n",
    "        alphabets = 'abcdefghijklmnopqrstuvwxyz'\n",
    "        \n",
    "        for letter in range(len(alphabets)):\n",
    "            if (letter+1) % 2 == 0:\n",
    "                dic[alphabets[letter]] = 0\n",
    "            else:\n",
    "                dic[alphabets[letter]] = 1\n",
    "        \n",
    "        result_ls = []\n",
    "        for letter_ in word:\n",
    "            if dic[letter_] == 1:\n",
    "                result_ls.append(True)\n",
    "            else:\n",
    "                result_ls.append(False)\n",
    "            \n",
    "        return result_ls\n",
    "    except Exception as err:\n",
    "        print(str(err))\n",
    "\n",
    "to_bollean_list('loves')"
   ]
  },
  {
   "cell_type": "code",
   "execution_count": null,
   "id": "47b66101",
   "metadata": {},
   "outputs": [],
   "source": [
    "# def to_bollean_list(word):\n",
    "#     try:\n",
    "#         np = __import__('numpy')\n",
    "#         dic = {}\n",
    "#         alphabets = 'abcdefghijklmnopqrstuvwxyz'\n",
    "        \n",
    "#         for index in range(len(alphabets)):\n",
    "#             if (index+1) % 2 == 0:\n",
    "#                 dic[alphabets[index]] = 0\n",
    "#             else:\n",
    "#                 dic[alphabets[index]] = 1\n",
    "        \n",
    "#         condition = [(dic.values()==0),(dic.values()==1)]\n",
    "#         values = [\"True\",\"False\"]\n",
    "#         dic.values() = np.select(condition,values)\n",
    "        \n",
    "#         result_ls = []\n",
    "#         for letter_ in word:\n",
    "#             if dic[letter_] == 1:\n",
    "#                 result_ls.append(True)\n",
    "#             else:\n",
    "#                 result_ls.append(False)\n",
    "            \n",
    "#         return result_ls\n",
    "#     except Exception as err:\n",
    "#         print(str(err))\n",
    "\n",
    "# to_bollean_list('loves')"
   ]
  },
  {
   "cell_type": "code",
   "execution_count": 1,
   "id": "7c285efe",
   "metadata": {},
   "outputs": [
    {
     "name": "stdout",
     "output_type": "stream",
     "text": [
      "{'a': 1, 'b': 0, 'c': 1, 'd': 0, 'e': 1, 'f': 0, 'g': 1, 'h': 0, 'i': 1, 'j': 0, 'k': 1, 'l': 0, 'm': 1, 'n': 0, 'o': 1, 'p': 0, 'q': 1, 'r': 0, 's': 1, 't': 0, 'u': 1, 'v': 0, 'w': 1, 'x': 0, 'y': 1, 'z': 0}\n"
     ]
    }
   ],
   "source": [
    "# dic = {}\n",
    "# alphabets = 'abcdefghijklmnopqrstuvwxyz'\n",
    "        \n",
    "# for index in range(len(alphabets)):\n",
    "#         if (index+1) % 2 == 0:\n",
    "#             dic[alphabets[index]] = 0\n",
    "#         else:\n",
    "#             dic[alphabets[index]] = 1\n",
    "# print(dic)\n"
   ]
  },
  {
   "cell_type": "code",
   "execution_count": 3,
   "id": "73e8149e",
   "metadata": {},
   "outputs": [
    {
     "data": {
      "text/plain": [
       "False"
      ]
     },
     "execution_count": 3,
     "metadata": {},
     "output_type": "execute_result"
    }
   ],
   "source": [
    "dic.values() == 0"
   ]
  },
  {
   "cell_type": "code",
   "execution_count": null,
   "id": "f6f7f626",
   "metadata": {},
   "outputs": [],
   "source": []
  }
 ],
 "metadata": {
  "kernelspec": {
   "display_name": "Python 3",
   "language": "python",
   "name": "python3"
  },
  "language_info": {
   "codemirror_mode": {
    "name": "ipython",
    "version": 3
   },
   "file_extension": ".py",
   "mimetype": "text/x-python",
   "name": "python",
   "nbconvert_exporter": "python",
   "pygments_lexer": "ipython3",
   "version": "3.8.8"
  }
 },
 "nbformat": 4,
 "nbformat_minor": 5
}
