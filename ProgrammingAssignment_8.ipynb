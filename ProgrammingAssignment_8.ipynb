{
 "cells": [
  {
   "cell_type": "markdown",
   "id": "4cf55000",
   "metadata": {},
   "source": [
    "### Given a sentence as txt, return True if any two adjacent words have this property: One word ends with a vowel, while the word immediately after begins with a vowel (a e i o u)."
   ]
  },
  {
   "cell_type": "code",
   "execution_count": 13,
   "id": "241e7a44",
   "metadata": {},
   "outputs": [
    {
     "data": {
      "text/plain": [
       "['a', 'very', 'large', 'appliance']"
      ]
     },
     "execution_count": 13,
     "metadata": {},
     "output_type": "execute_result"
    }
   ],
   "source": [
    "txt = \"a very large appliance\"\n",
    "ls = txt.split(' ')\n",
    "ls"
   ]
  },
  {
   "cell_type": "code",
   "execution_count": 17,
   "id": "f2c33253",
   "metadata": {},
   "outputs": [
    {
     "name": "stdout",
     "output_type": "stream",
     "text": [
      "a\n",
      "appliance\n"
     ]
    }
   ],
   "source": [
    "for idx in range(len(ls)):\n",
    "    if ls[idx][-1:] in \"aeiou\" and ls[idx][0] in \"aeiou\":\n",
    "        print(ls[idx])"
   ]
  },
  {
   "cell_type": "markdown",
   "id": "c243f8c3",
   "metadata": {},
   "source": [
    "### Create a function that returns the characters from a list or string r on odd or even positions, depending on the specifier s. The specifier will be \"odd\" for items on odd positions (1, 3, 5, ...) and \"even\" for items on even positions (2, 4, 6, ...)."
   ]
  },
  {
   "cell_type": "code",
   "execution_count": 34,
   "id": "84f6b1f8",
   "metadata": {},
   "outputs": [
    {
     "name": "stdout",
     "output_type": "stream",
     "text": [
      "['A', 'B', 'T', 'A', 'I', 'Y']\n"
     ]
    }
   ],
   "source": [
    "def char_at_pos(char,pos):\n",
    "    try:\n",
    "        if pos == \"even\":\n",
    "            return char[1::2]\n",
    "        else:\n",
    "            return char[::2]\n",
    "        \n",
    "    except Exception as err:\n",
    "        print(str(err))    \n",
    "        \n",
    "if __name__==\"__main__\":\n",
    "    print(char_at_pos([\"A\",\"R\",\"B\",\"I\",\"T\",\"R\",\"A\",\"R\",\"I\",\"L\",\"Y\"],\"odd\"))"
   ]
  },
  {
   "cell_type": "markdown",
   "id": "cb17c994",
   "metadata": {},
   "source": [
    "### Write a function that returns the greatest common divisor of all list elements. If the greatest common divisor is 1, return 1."
   ]
  },
  {
   "cell_type": "code",
   "execution_count": 43,
   "id": "6a42407b",
   "metadata": {},
   "outputs": [
    {
     "name": "stdout",
     "output_type": "stream",
     "text": [
      "1\n"
     ]
    }
   ],
   "source": [
    "import functools\n",
    "import math\n",
    "def GCD(ls):\n",
    "    try:\n",
    "        gcd = functools.reduce(math.gcd,ls)\n",
    "        \n",
    "        return gcd\n",
    "    except Exception as err:\n",
    "        print(str(err))\n",
    "        \n",
    "if __name__==\"__main__\":\n",
    "    print(GCD([1,2,3,100]))"
   ]
  },
  {
   "cell_type": "markdown",
   "id": "54bcec37",
   "metadata": {},
   "source": [
    "### A number/string is a palindrome if the digits/characters are the same when read both forward and backward. Examples include \"racecar\" and 12321. Given a positive number n, check if n or the binary representation of n is palindromic. Return the following:\n",
    "- \"Decimal only\" if only n is a palindrome.\n",
    "- \"Binary only\" if only the binary representation of n is a palindrome.\n",
    "- \"Decimal and binary\" if both are palindromes.\n",
    "- \"Neither!\" if neither are palindromes."
   ]
  },
  {
   "cell_type": "code",
   "execution_count": 81,
   "id": "3aa5ec65",
   "metadata": {},
   "outputs": [
    {
     "name": "stdout",
     "output_type": "stream",
     "text": [
      "Decimal and binary\n"
     ]
    }
   ],
   "source": [
    "def reverse_digit(n):\n",
    "    try:\n",
    "        bin_n = int(bin(n)[2:])\n",
    "        rev = 0\n",
    "        bin_rev = 0\n",
    "        while (n > 0):\n",
    "            rev = rev*10 + n % 10\n",
    "            n = n // 10\n",
    "        \n",
    "        \n",
    "        while (bin_n > 0):\n",
    "            bin_rev = bin_rev*10 + bin_n % 10\n",
    "            bin_n = bin_n // 10\n",
    "        return rev,bin_rev \n",
    "        \n",
    "    except Exception as err:\n",
    "        print(str(err))\n",
    "        \n",
    "def palindrome_type(num):\n",
    "    try:\n",
    "        reverse, bin_reverse = reverse_digit(num)\n",
    "        \n",
    "        if reverse == num and bin_reverse != int(bin(num)[2:]):\n",
    "            return \"Decimal only\"\n",
    "        elif reverse != num and bin_reverse == int(bin(num)[2:]):\n",
    "            return \"Binary only\"\n",
    "        elif reverse == num or bin_reverse == int(bin(num)[2:]):\n",
    "            return \"Decimal and binary\"\n",
    "        else:\n",
    "            return \"Neither!\"\n",
    "    except Exception as err:\n",
    "        print(str(err))\n",
    "        \n",
    "if __name__==\"__main__\":\n",
    "    print(palindrome_type(313))"
   ]
  }
 ],
 "metadata": {
  "kernelspec": {
   "display_name": "Python 3",
   "language": "python",
   "name": "python3"
  },
  "language_info": {
   "codemirror_mode": {
    "name": "ipython",
    "version": 3
   },
   "file_extension": ".py",
   "mimetype": "text/x-python",
   "name": "python",
   "nbconvert_exporter": "python",
   "pygments_lexer": "ipython3",
   "version": "3.8.8"
  }
 },
 "nbformat": 4,
 "nbformat_minor": 5
}
